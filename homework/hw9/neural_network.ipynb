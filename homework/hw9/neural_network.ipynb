{
 "cells": [
  {
   "cell_type": "markdown",
   "metadata": {
    "id": "3x9uySjxDhZ0"
   },
   "source": [
    "# Neural Network Example\n",
    "\n",
    "Xây dựng neural network với hai tầng ẩn (hidden layer). Các trọng số và mối liên hệ giữa các tầng ẩn được thiết lập và cài đặt bằng việc sử dụng API của thư viện PyTorch"
   ]
  },
  {
   "cell_type": "markdown",
   "metadata": {
    "id": "t_U1OnHRDhZ4"
   },
   "source": [
    "## Neural Network Overview\n",
    "\n",
    "<img src=\"http://cs231n.github.io/assets/nn1/neural_net2.jpeg\" alt=\"nn\" style=\"width: 400px;\"/>\n",
    "\n",
    "## MNIST Dataset Overview\n",
    "\n"
   ]
  },
  {
   "cell_type": "code",
   "execution_count": 13,
   "metadata": {
    "id": "qdOjSpvgDhZ5"
   },
   "outputs": [],
   "source": [
    "from __future__ import absolute_import, division, print_function\n",
    "\n",
    "import torch\n",
    "import torch.nn as nn\n",
    "import torch.nn.functional as F\n",
    "import torch.optim as optim\n",
    "import torchvision\n",
    "import torchvision.transforms as transforms\n",
    "from torch.autograd import Variable\n",
    "import numpy as np"
   ]
  },
  {
   "cell_type": "code",
   "execution_count": 14,
   "metadata": {
    "colab": {
     "base_uri": "https://localhost:8080/"
    },
    "executionInfo": {
     "elapsed": 3518,
     "status": "ok",
     "timestamp": 1630115635932,
     "user": {
      "displayName": "Nam Cao Hải",
      "photoUrl": "https://lh3.googleusercontent.com/a-/AOh14GiCmrl3X4wfKjF82UzLyBPTNB6px2ty7jZ8llyL=s64",
      "userId": "02198006735637931468"
     },
     "user_tz": -420
    },
    "id": "VozvoFF6gXDB",
    "outputId": "c7234e60-bd4f-4835-9b0e-eed0d8f5a21d"
   },
   "outputs": [],
   "source": [
    "# Chuẩn bị dữ liệu\n",
    "from tensorflow.keras.datasets import mnist\n",
    "(x_train, y_train), (x_test, y_test) = mnist.load_data()\n",
    "# Chuyển đổi sang định dạng float32.\n",
    "x_train, x_test = np.array(x_train, np.float32), np.array(x_test, np.float32)\n",
    "# Chuẩn hóa ảnh từ from [0, 255] to [0, 1].\n",
    "x_train, x_test = x_train / 255.0, x_test / 255.0\n",
    "\n",
    "x_train = x_train.reshape(-1, 28*28)\n",
    "x_test = x_test.reshape(-1, 28*28)\n",
    "\n",
    "x_train, x_test, y_train, y_test = torch.from_numpy(x_train), torch.from_numpy(x_test), torch.from_numpy(y_train).type(torch.LongTensor), torch.from_numpy(y_test).type(torch.LongTensor)"
   ]
  },
  {
   "cell_type": "code",
   "execution_count": 15,
   "metadata": {
    "id": "2l0-L8j1pTAo"
   },
   "outputs": [],
   "source": [
    "# MNIST dataset parameters.\n",
    "num_classes = 10 # total classes (0-9 digits).\n",
    "num_features = 784 # data features (img shape: 28*28).\n",
    "\n",
    "# Network parameters.\n",
    "n_hidden_1 = 128 # 1st layer number of neurons.\n",
    "n_hidden_2 = 256 # 2nd layer number of neurons."
   ]
  },
  {
   "cell_type": "code",
   "execution_count": 16,
   "metadata": {
    "id": "DmRW7160DhZ5"
   },
   "outputs": [],
   "source": [
    "batch_size = 16"
   ]
  },
  {
   "cell_type": "code",
   "execution_count": 17,
   "metadata": {
    "id": "jlCutM-HgnGm"
   },
   "outputs": [],
   "source": [
    "trainloader = []\n",
    "for (i,j) in zip(x_train, y_train):\n",
    "    trainloader.append([i,j])\n",
    "trainloader = torch.utils.data.DataLoader(trainloader, shuffle=True, batch_size=batch_size)\n",
    "\n",
    "testloader = []\n",
    "for (i,j) in zip(x_test, y_test):\n",
    "    testloader.append([i,j])\n",
    "testloader = torch.utils.data.DataLoader(testloader, shuffle=False, batch_size=batch_size)"
   ]
  },
  {
   "cell_type": "markdown",
   "metadata": {
    "id": "2ozBMqxygTt3"
   },
   "source": [
    "## Hiển thị một vài ví dụ"
   ]
  },
  {
   "cell_type": "code",
   "execution_count": 21,
   "metadata": {
    "colab": {
     "base_uri": "https://localhost:8080/",
     "height": 287
    },
    "executionInfo": {
     "elapsed": 1572,
     "status": "ok",
     "timestamp": 1630115645212,
     "user": {
      "displayName": "Nam Cao Hải",
      "photoUrl": "https://lh3.googleusercontent.com/a-/AOh14GiCmrl3X4wfKjF82UzLyBPTNB6px2ty7jZ8llyL=s64",
      "userId": "02198006735637931468"
     },
     "user_tz": -420
    },
    "id": "OKzi3NK4INqd",
    "outputId": "4421a3ea-7437-4faf-f78b-4973220e8786"
   },
   "outputs": [
    {
     "data": {
      "image/png": "[encoded data removed]",
      "text/plain": [
       "<Figure size 2500x400 with 16 Axes>"
      ]
     },
     "metadata": {},
     "output_type": "display_data"
    }
   ],
   "source": [
    "import matplotlib.pyplot as plt\n",
    "%matplotlib inline\n",
    "    \n",
    "dataiter = iter(trainloader)\n",
    "images, labels = next(dataiter)\n",
    "images = images.numpy()\n",
    "\n",
    "# hiển thị dữ liệu theo từng batch và nhãn tương ứng\n",
    "fig = plt.figure(figsize=(25, 4))\n",
    "for idx in np.arange(batch_size):\n",
    "    ax = fig.add_subplot(2, batch_size // 2, idx + 1, xticks=[], yticks=[])\n",
    "    # reshape từ (784,) về (28, 28)\n",
    "    ax.imshow(np.reshape(images[idx], (28, 28)), cmap='gray')\n",
    "    ax.set_title(str(labels[idx].item()))\n",
    "plt.show()"
   ]
  },
  {
   "cell_type": "code",
   "execution_count": 22,
   "metadata": {
    "id": "Rql7CBYODhZ6"
   },
   "outputs": [
    {
     "name": "stdout",
     "output_type": "stream",
     "text": [
      "MLPModel(\n",
      "  (fc1): Linear(in_features=784, out_features=128, bias=True)\n",
      "  (fc2): Linear(in_features=128, out_features=256, bias=True)\n",
      "  (output): Linear(in_features=256, out_features=10, bias=True)\n",
      "  (relu): ReLU()\n",
      "  (softmax): Softmax(dim=1)\n",
      ")\n"
     ]
    }
   ],
   "source": [
    "import torch.nn as nn\n",
    "import torch.nn.functional as F\n",
    "\n",
    "## định nghĩa mạng\n",
    "class MLPModel(nn.Module):\n",
    "    def __init__(self):\n",
    "        super(MLPModel, self).__init__()\n",
    "        self.fc1 = nn.Linear(num_features, n_hidden_1)\n",
    "        # linear layer (n_hidden -> hidden_2)\n",
    "        self.fc2 = nn.Linear(n_hidden_1, n_hidden_2)\n",
    "        self.output = nn.Linear(n_hidden_2, num_classes)\n",
    "\n",
    "        self.relu = nn.ReLU()\n",
    "        self.softmax = nn.Softmax(dim=1)\n",
    "\n",
    "    def forward(self, x):\n",
    "        # add hidden layer, with relu activation function\n",
    "        x = self.relu(self.fc1(x))\n",
    "        x = self.relu(self.fc2(x))\n",
    "        x = self.output(x)\n",
    "        x = self.softmax(x)\n",
    "        return x\n",
    "\n",
    "# initialize the NN\n",
    "model = MLPModel()\n",
    "print(model)"
   ]
  },
  {
   "cell_type": "code",
   "execution_count": 23,
   "metadata": {
    "id": "hCTP3kWMng7e"
   },
   "outputs": [],
   "source": [
    "import torch.optim as optim\n",
    "# trong hàm loss cross entropy đã áp dụng hàm soft max cho vector đầu ra\n",
    "criterion = nn.CrossEntropyLoss()\n",
    "optimizer = optim.SGD(model.parameters(), lr=0.01)"
   ]
  },
  {
   "cell_type": "code",
   "execution_count": null,
   "metadata": {
    "id": "F08Eg4vfmtOQ"
   },
   "outputs": [],
   "source": [
    "def accuracy(model, testloader):\n",
    "    correct = 0\n",
    "    total = 0\n",
    "    # since we're not training, we don't need to calculate the gradients for our outputs\n",
    "    with torch.no_grad():\n",
    "        for data in testloader:\n",
    "            images, labels = data\n",
    "            # calculate outputs by running images through the network\n",
    "            outputs = model(images)\n",
    "            # the class with the highest energy is what we choose as prediction\n",
    "            _, predicted = torch.max(outputs.data, 1)\n",
    "            total += labels.size(0)\n",
    "            correct += (predicted == labels).sum().item()\n",
    "\n",
    "    return correct/total"
   ]
  },
  {
   "cell_type": "code",
   "execution_count": null,
   "metadata": {
    "id": "NDl_S1CynsUR"
   },
   "outputs": [
    {
     "name": "stdout",
     "output_type": "stream",
     "text": [
      "Iteration: 10, accuracy: 0.925\n",
      "Finished Training\n"
     ]
    }
   ],
   "source": [
    "losses = []\n",
    "for epoch in range(10):  # loop over the dataset multiple times\n",
    "\n",
    "    running_loss = 0.0\n",
    "    for i, data in enumerate(trainloader, 0):\n",
    "        # get the inputs; data is a list of [inputs, labels]\n",
    "        inputs, labels = data\n",
    "\n",
    "        # zero the parameter gradients\n",
    "        optimizer.zero_grad()\n",
    "\n",
    "        # forward + backward + optimize\n",
    "        outputs = model(inputs)\n",
    "        loss = criterion(outputs, labels)\n",
    "        loss.backward()\n",
    "        optimizer.step()\n",
    "\n",
    "        # print statistics\n",
    "        running_loss += loss.item()\n",
    "    losses.append(running_loss)\n",
    "    if epoch % 10 == 9:\n",
    "        print('Iteration: %d, accuracy: %.3f' %(epoch + 1, accuracy(model, testloader)))\n",
    "\n",
    "print('Finished Training')"
   ]
  },
  {
   "cell_type": "code",
   "execution_count": 26,
   "metadata": {
    "colab": {
     "base_uri": "https://localhost:8080/",
     "height": 264
    },
    "executionInfo": {
     "elapsed": 549,
     "status": "ok",
     "timestamp": 1630119179697,
     "user": {
      "displayName": "Nam Cao Hải",
      "photoUrl": "https://lh3.googleusercontent.com/a-/AOh14GiCmrl3X4wfKjF82UzLyBPTNB6px2ty7jZ8llyL=s64",
      "userId": "02198006735637931468"
     },
     "user_tz": -420
    },
    "id": "wULStpofn6KQ",
    "outputId": "906cfef8-9419-4b5d-9e91-60be3c8abc03"
   },
   "outputs": [
    {
     "data": {
      "image/png": "[encoded data removed]",
      "text/plain": [
       "<Figure size 640x480 with 1 Axes>"
      ]
     },
     "metadata": {},
     "output_type": "display_data"
    }
   ],
   "source": [
    "# Biểu đồ biểu diễn độ biến thiên của hàm mất mát qua các vòng lặp\n",
    "plt.plot([i for i in range(len(losses))], losses, label='Loss line')\n",
    "# plt.plot(X, np.array(W * X + b), label='Fitted line')\n",
    "plt.legend()\n",
    "plt.show()"
   ]
  },
  {
   "cell_type": "markdown",
   "metadata": {
    "id": "r9TNrG3r0OYV"
   },
   "source": [
    "## Bài tập\n",
    "\n",
    "*   Tiến hành huấn luyện mô hình với số lượng epoch lần lượt là 50, 100, 150.Rút ra nhận xét.\n",
    "\n"
   ]
  },
  {
   "cell_type": "code",
   "execution_count": null,
   "metadata": {},
   "outputs": [
    {
     "name": "stdout",
     "output_type": "stream",
     "text": [
      "Finished Training\n"
     ]
    }
   ],
   "source": [
    "def train(epoches):\n",
    "    losses = []\n",
    "    for epoch in range(epoches):  # loop over the dataset multiple times\n",
    "\n",
    "        running_loss = 0.0\n",
    "        for i, data in enumerate(trainloader, 0):\n",
    "            # get the inputs; data is a list of [inputs, labels]\n",
    "            inputs, labels = data\n",
    "\n",
    "        # zero the parameter gradients\n",
    "            optimizer.zero_grad()\n",
    "\n",
    "        # forward + backward + optimize\n",
    "            outputs = model(inputs)\n",
    "            loss = criterion(outputs, labels)\n",
    "            loss.backward()\n",
    "            optimizer.step()\n",
    "\n",
    "        # print statistics\n",
    "            running_loss += loss.item()\n",
    "        losses.append(running_loss)\n",
    "        if epoch % 10 == 9:\n",
    "            print('Iteration: %d, accuracy: %.3f' %(epoch + 1, accuracy()))\n",
    "\n",
    "print('Finished Training')"
   ]
  },
  {
   "cell_type": "code",
   "execution_count": 29,
   "metadata": {},
   "outputs": [
    {
     "name": "stdout",
     "output_type": "stream",
     "text": [
      "Iteration: 10, accuracy: 0.943\n",
      "Iteration: 20, accuracy: 0.954\n",
      "Iteration: 30, accuracy: 0.962\n",
      "Iteration: 40, accuracy: 0.966\n",
      "Iteration: 50, accuracy: 0.968\n"
     ]
    }
   ],
   "source": [
    "train(50)"
   ]
  },
  {
   "cell_type": "code",
   "execution_count": 30,
   "metadata": {},
   "outputs": [
    {
     "name": "stdout",
     "output_type": "stream",
     "text": [
      "Iteration: 10, accuracy: 0.970\n",
      "Iteration: 20, accuracy: 0.969\n",
      "Iteration: 30, accuracy: 0.971\n",
      "Iteration: 40, accuracy: 0.972\n",
      "Iteration: 50, accuracy: 0.972\n",
      "Iteration: 60, accuracy: 0.972\n",
      "Iteration: 70, accuracy: 0.972\n",
      "Iteration: 80, accuracy: 0.972\n",
      "Iteration: 90, accuracy: 0.973\n",
      "Iteration: 100, accuracy: 0.973\n"
     ]
    }
   ],
   "source": [
    "train(100)"
   ]
  },
  {
   "cell_type": "markdown",
   "metadata": {
    "id": "ByD_DioQ0n58"
   },
   "source": [
    "\n",
    "\n",
    "*   Hiển thị một số kết quả\n",
    "\n"
   ]
  },
  {
   "cell_type": "code",
   "execution_count": null,
   "metadata": {
    "colab": {
     "base_uri": "https://localhost:8080/",
     "height": 191
    },
    "executionInfo": {
     "elapsed": 804,
     "status": "ok",
     "timestamp": 1630083571823,
     "user": {
      "displayName": "Nam Cao Hải",
      "photoUrl": "https://lh3.googleusercontent.com/a-/AOh14GiCmrl3X4wfKjF82UzLyBPTNB6px2ty7jZ8llyL=s64",
      "userId": "02198006735637931468"
     },
     "user_tz": -420
    },
    "id": "EPVrejvmDhZ_",
    "outputId": "3f19b554-38a4-40de-ebe6-1cadbf7f92e8"
   },
   "outputs": [
    {
     "data": {
      "image/png": "[encoded data removed]",
      "text/plain": [
       "<Figure size 1800x288 with 16 Axes>"
      ]
     },
     "metadata": {},
     "output_type": "display_data"
    }
   ],
   "source": [
    "# obtain one batch of test images\n",
    "dataiter = iter(testloader)\n",
    "images, labels = dataiter.next()\n",
    "\n",
    "# get sample outputs\n",
    "output = model(images)\n",
    "# convert output probabilities to predicted class\n",
    "_, preds = torch.max(output, 1)\n",
    "# prep images for display\n",
    "images = images.numpy()\n",
    "\n",
    "# plot the images in the batch, along with predicted and true labels\n",
    "fig = plt.figure(figsize=(25, 4))\n",
    "for idx in np.arange(batch_size):\n",
    "    ax = fig.add_subplot(2, batch_size/2, idx+1, xticks=[], yticks=[])\n",
    "    ax.imshow(np.squeeze(images[idx]), cmap='gray')\n",
    "    ax.set_title(\"{} ({})\".format(str(preds[idx].item()), str(labels[idx].item())),\n",
    "                 color=(\"green\" if preds[idx]==labels[idx] else \"red\"))"
   ]
  },
  {
   "cell_type": "code",
   "execution_count": null,
   "metadata": {
    "id": "M64NL8UXhe00"
   },
   "outputs": [],
   "source": []
  },
  {
   "cell_type": "markdown",
   "metadata": {
    "id": "LZnmFyT3yvBd"
   },
   "source": [
    "## Bài tập\n",
    "\n",
    "*   Thiết lập thêm 3 mạng nơ ron với số tầng ẩn lần lượt là 3,5 (số lượng nơ ron của các tầng tùy ý). Với mỗi mạng mới được sinh ra, áp dụng learning-rate lần lượt bằng 0.1, 0,05, 0.001 để huấn luyện. Huấn luyện qua khoảng 100 epoch.\n",
    "*   Chia tập train hiện có thành 2 phần. **85%** dữ liệu làm tập **train**, **15%** còn lại làm tập **dev**. Huấn luyện các mô hình tạo ra ở bước trên với tập **train** mới, sau đó kiểm thử trên tập **dev**. \n",
    "* Dùng các model kiểm thử trên tập **test**. So sánh model cho kết quả tốt nhất khi kiểm thử trên 2 tập này và rút ra nhận xét về vai trò của tập **dev**\n",
    "\n"
   ]
  },
  {
   "cell_type": "code",
   "execution_count": 3,
   "metadata": {},
   "outputs": [],
   "source": [
    "from __future__ import absolute_import, division, print_function\n",
    "\n",
    "import torch\n",
    "import torch.nn as nn\n",
    "import torch.nn.functional as F\n",
    "import torch.optim as optim\n",
    "import torchvision\n",
    "import torchvision.transforms as transforms\n",
    "from torch.autograd import Variable\n",
    "import numpy as np"
   ]
  },
  {
   "cell_type": "code",
   "execution_count": 38,
   "metadata": {},
   "outputs": [],
   "source": [
    "# Chuẩn bị dữ liệu\n",
    "from tensorflow.keras.datasets import mnist\n",
    "from sklearn.model_selection import train_test_split\n",
    "from torch.utils.data import TensorDataset, DataLoader\n",
    "(x_train, y_train), (x_test, y_test) = mnist.load_data()\n",
    "x_train, x_dev, y_train, y_dev = train_test_split(x_train, y_train, random_state=42)\n",
    "# Chuyển đổi sang định dạng float32.\n",
    "x_train, x_dev, x_test = np.array(x_train, np.float32), np.array(x_dev, np.float32),np.array(x_test, np.float32)\n",
    "# Chuẩn hóa ảnh từ from [0, 255] to [0, 1].\n",
    "x_train, x_dev, x_test = x_train / 255.0, x_dev/255.0, x_test / 255.0\n",
    "\n",
    "x_train = x_train.reshape(-1, 28*28)\n",
    "x_dev = x_dev.reshape(-1, 28*28)\n",
    "x_test = x_test.reshape(-1, 28*28)\n",
    "\n",
    "batch_size = 16\n",
    "\n",
    "x_train, x_dev, x_test, y_train,y_dev, y_test = torch.from_numpy(x_train), torch.from_numpy(x_dev),torch.from_numpy(x_test), torch.from_numpy(y_train).type(torch.LongTensor), torch.from_numpy(y_dev).type(torch.LongTensor), torch.from_numpy(y_test).type(torch.LongTensor)\n",
    "\n",
    "# Tạo Dataset hiệu quả\n",
    "train_dataset = TensorDataset(x_train, y_train)\n",
    "dev_dataset = TensorDataset(x_dev, y_dev)\n",
    "test_dataset = TensorDataset(x_test, y_test)\n",
    "\n",
    "# Tạo DataLoader từ Dataset\n",
    "trainloader = DataLoader(train_dataset, shuffle=True, batch_size=batch_size)\n",
    "devloader = DataLoader(dev_dataset, shuffle=False, batch_size=batch_size)\n",
    "testloader = DataLoader(test_dataset, shuffle=False, batch_size=batch_size)"
   ]
  },
  {
   "cell_type": "code",
   "execution_count": 39,
   "metadata": {},
   "outputs": [],
   "source": [
    "def accuracy(model, testloader):\n",
    "    correct = 0\n",
    "    total = 0\n",
    "    # since we're not training, we don't need to calculate the gradients for our outputs\n",
    "    with torch.no_grad():\n",
    "        for data in testloader:\n",
    "            images, labels = data\n",
    "            # calculate outputs by running images through the network\n",
    "            outputs = model(images)\n",
    "            # the class with the highest energy is what we choose as prediction\n",
    "            _, predicted = torch.max(outputs.data, 1)\n",
    "            total += labels.size(0)\n",
    "            correct += (predicted == labels).sum().item()\n",
    "\n",
    "    return correct/total"
   ]
  },
  {
   "cell_type": "code",
   "execution_count": 40,
   "metadata": {},
   "outputs": [],
   "source": [
    "def train_mlp(model, trainloader, testloader, epoches, lr):\n",
    "\n",
    "    losses = []\n",
    "    criterion = nn.CrossEntropyLoss()\n",
    "    optimizer = optim.SGD(model.parameters(), lr=lr)\n",
    "    \n",
    "    for epoch in range(epoches):  # loop over the dataset multiple times\n",
    "        running_loss = 0.0\n",
    "        for i, data in enumerate(trainloader, 0):\n",
    "            # get the inputs; data is a list of [inputs, labels]\n",
    "            inputs, labels = data\n",
    "        # zero the parameter gradients\n",
    "            optimizer.zero_grad()\n",
    "        # forward + backward + optimize\n",
    "            outputs = model(inputs)\n",
    "            loss = criterion(outputs, labels)\n",
    "            loss.backward()\n",
    "            optimizer.step()\n",
    "        # print statistics\n",
    "            running_loss += loss.item()\n",
    "        losses.append(running_loss)\n",
    "        if epoch % 10 == 9:\n",
    "            print('Iteration: %d, accuracy: %.3f' %(epoch + 1, accuracy(model, testloader)))\n",
    "    print('Finished Training')"
   ]
  },
  {
   "cell_type": "code",
   "execution_count": 41,
   "metadata": {
    "id": "kHagR4zz1_Ek"
   },
   "outputs": [],
   "source": [
    "class MLP1(nn.Module):\n",
    "    def __init__(self, layer_sizes):\n",
    "        super(MLP1, self).__init__()\n",
    "        self.fc1 = nn.Linear(layer_sizes[0], layer_sizes[1])\n",
    "        self.fc2 = nn.Linear(layer_sizes[1], layer_sizes[2])\n",
    "        self.fc3 = nn.Linear(layer_sizes[2], layer_sizes[3])\n",
    "        self.output = nn.Linear(layer_sizes[3], layer_sizes[4])\n",
    "\n",
    "    def forward(self, x):\n",
    "        x = F.relu(self.fc1(x))\n",
    "        x = F.relu(self.fc2(x))\n",
    "        x = F.relu(self.fc3(x))\n",
    "        x = self.output(x)\n",
    "        return x"
   ]
  },
  {
   "cell_type": "code",
   "execution_count": 55,
   "metadata": {},
   "outputs": [],
   "source": [
    "class MLP2(nn.Module):\n",
    "    def __init__(self, layer_sizes):\n",
    "        super(MLP2, self).__init__()\n",
    "        self.fc1 = nn.Linear(layer_sizes[0], layer_sizes[1])\n",
    "        self.fc2 = nn.Linear(layer_sizes[1], layer_sizes[2])\n",
    "        self.fc3 = nn.Linear(layer_sizes[2], layer_sizes[3])\n",
    "        self.fc4 = nn.Linear(layer_sizes[3], layer_sizes[4])\n",
    "        self.output = nn.Linear(layer_sizes[4], layer_sizes[5])\n",
    "\n",
    "    def forward(self, x):\n",
    "        x = F.relu(self.fc1(x))\n",
    "        x = F.relu(self.fc2(x))\n",
    "        x = F.relu(self.fc3(x))\n",
    "        x = F.relu(self.fc4(x))\n",
    "        x = self.output(x)\n",
    "        return x"
   ]
  },
  {
   "cell_type": "code",
   "execution_count": 56,
   "metadata": {},
   "outputs": [],
   "source": [
    "class MLP3(nn.Module):\n",
    "    def __init__(self, layer_sizes):\n",
    "        super(MLP3, self).__init__()\n",
    "        self.fc1 = nn.Linear(layer_sizes[0], layer_sizes[1])\n",
    "        self.fc2 = nn.Linear(layer_sizes[1], layer_sizes[2])\n",
    "        self.fc3 = nn.Linear(layer_sizes[2], layer_sizes[3])\n",
    "        self.fc4 = nn.Linear(layer_sizes[3], layer_sizes[4])\n",
    "        self.fc5 = nn.Linear(layer_sizes[4], layer_sizes[5])\n",
    "        self.output = nn.Linear(layer_sizes[5], layer_sizes[6])\n",
    "\n",
    "    def forward(self, x):\n",
    "        x = F.relu(self.fc1(x))\n",
    "        x = F.relu(self.fc2(x))\n",
    "        x = F.relu(self.fc3(x))\n",
    "        x = F.relu(self.fc4(x))\n",
    "        x = F.relu(self.fc5(x))\n",
    "        x = self.output(x)\n",
    "        return x"
   ]
  },
  {
   "cell_type": "code",
   "execution_count": 58,
   "metadata": {},
   "outputs": [],
   "source": [
    "mlp1 = MLP1([784, 256, 128, 64, 10])\n",
    "mlp2 = MLP2([784, 512, 256, 128, 64, 10])\n",
    "mlp3 = MLP3([784, 512, 256, 128, 64, 32, 10])"
   ]
  },
  {
   "cell_type": "code",
   "execution_count": 45,
   "metadata": {},
   "outputs": [
    {
     "name": "stdout",
     "output_type": "stream",
     "text": [
      "Iteration: 10, accuracy: 0.978\n",
      "Iteration: 20, accuracy: 0.983\n",
      "Iteration: 30, accuracy: 0.983\n",
      "Iteration: 40, accuracy: 0.983\n",
      "Iteration: 50, accuracy: 0.983\n",
      "Iteration: 60, accuracy: 0.983\n",
      "Iteration: 70, accuracy: 0.983\n",
      "Iteration: 80, accuracy: 0.983\n",
      "Iteration: 90, accuracy: 0.983\n",
      "Iteration: 100, accuracy: 0.983\n",
      "Finished Training\n"
     ]
    },
    {
     "data": {
      "text/plain": [
       "0.9845"
      ]
     },
     "execution_count": 45,
     "metadata": {},
     "output_type": "execute_result"
    }
   ],
   "source": [
    "train_mlp(mlp1, trainloader, devloader, 100, 0.1)\n",
    "accuracy(mlp1, testloader)"
   ]
  },
  {
   "cell_type": "code",
   "execution_count": 59,
   "metadata": {},
   "outputs": [
    {
     "name": "stdout",
     "output_type": "stream",
     "text": [
      "Iteration: 10, accuracy: 0.978\n",
      "Iteration: 20, accuracy: 0.983\n",
      "Iteration: 30, accuracy: 0.983\n",
      "Iteration: 40, accuracy: 0.982\n",
      "Iteration: 50, accuracy: 0.982\n",
      "Iteration: 60, accuracy: 0.982\n",
      "Iteration: 70, accuracy: 0.982\n",
      "Iteration: 80, accuracy: 0.982\n",
      "Iteration: 90, accuracy: 0.982\n",
      "Iteration: 100, accuracy: 0.982\n",
      "Finished Training\n"
     ]
    },
    {
     "data": {
      "text/plain": [
       "0.9838"
      ]
     },
     "execution_count": 59,
     "metadata": {},
     "output_type": "execute_result"
    }
   ],
   "source": [
    "train_mlp(mlp2, trainloader, devloader, 100, 0.05)\n",
    "accuracy(mlp2, testloader)"
   ]
  },
  {
   "cell_type": "code",
   "execution_count": 60,
   "metadata": {},
   "outputs": [
    {
     "name": "stdout",
     "output_type": "stream",
     "text": [
      "Iteration: 10, accuracy: 0.213\n",
      "Iteration: 20, accuracy: 0.876\n",
      "Iteration: 30, accuracy: 0.937\n",
      "Iteration: 40, accuracy: 0.959\n",
      "Iteration: 50, accuracy: 0.963\n",
      "Iteration: 60, accuracy: 0.965\n",
      "Iteration: 70, accuracy: 0.967\n",
      "Iteration: 80, accuracy: 0.967\n",
      "Iteration: 90, accuracy: 0.967\n",
      "Iteration: 100, accuracy: 0.967\n",
      "Finished Training\n"
     ]
    },
    {
     "data": {
      "text/plain": [
       "0.9678"
      ]
     },
     "execution_count": 60,
     "metadata": {},
     "output_type": "execute_result"
    }
   ],
   "source": [
    "train_mlp(mlp3, trainloader, devloader, 100, 0.001)\n",
    "accuracy(mlp3, testloader)"
   ]
  },
  {
   "cell_type": "code",
   "execution_count": null,
   "metadata": {},
   "outputs": [],
   "source": []
  }
 ],
 "metadata": {
  "colab": {
   "collapsed_sections": [],
   "name": "neural_network.ipynb",
   "provenance": []
  },
  "kernelspec": {
   "display_name": ".venv (3.9.6)",
   "language": "python",
   "name": "python3"
  },
  "language_info": {
   "codemirror_mode": {
    "name": "ipython",
    "version": 3
   },
   "file_extension": ".py",
   "mimetype": "text/x-python",
   "name": "python",
   "nbconvert_exporter": "python",
   "pygments_lexer": "ipython3",
   "version": "3.9.6"
  }
 },
 "nbformat": 4,
 "nbformat_minor": 0
}
